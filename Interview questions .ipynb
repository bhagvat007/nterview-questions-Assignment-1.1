{
 "cells": [
  {
   "cell_type": "markdown",
   "id": "a0fa7913",
   "metadata": {},
   "source": [
    "# 1. Data types"
   ]
  },
  {
   "cell_type": "code",
   "execution_count": 1,
   "id": "2712ab46",
   "metadata": {},
   "outputs": [
    {
     "ename": "SyntaxError",
     "evalue": "invalid syntax. Perhaps you forgot a comma? (Temp/ipykernel_13432/1613548016.py, line 3)",
     "output_type": "error",
     "traceback": [
      "\u001b[1;36m  File \u001b[1;32m\"C:\\Users\\Info\\AppData\\Local\\Temp/ipykernel_13432/1613548016.py\"\u001b[1;36m, line \u001b[1;32m3\u001b[0m\n\u001b[1;33m    Q.2\u001b[0m\n\u001b[1;37m    ^\u001b[0m\n\u001b[1;31mSyntaxError\u001b[0m\u001b[1;31m:\u001b[0m invalid syntax. Perhaps you forgot a comma?\n"
     ]
    }
   ],
   "source": [
    "Q.1 What are lists and tuples? What is the key difference between the two?\n",
    "\n",
    "Q.2 What is the difference between Python Arrays and lists?\n",
    "\n",
    "Q.3 What are the built-in types available in Python?\n",
    "\n",
    "Q.4 How to convert a list into other data types?"
   ]
  },
  {
   "cell_type": "markdown",
   "id": "ed035fb1",
   "metadata": {},
   "source": [
    "# 2. Operator"
   ]
  },
  {
   "cell_type": "code",
   "execution_count": null,
   "id": "6c8106ca",
   "metadata": {},
   "outputs": [],
   "source": [
    "Q.1 What is not operator in Python?\n",
    "\n",
    "Q.2 How are the  following two expressions different?\n",
    "     ans =  9\n",
    "     ans == 9\n",
    "\n",
    "Q.3 How does the ternary operator work in Python?\n",
    "\n",
    "Q.4 Explain Floor-Divide and Assign Operator in Python"
   ]
  },
  {
   "cell_type": "markdown",
   "id": "3b2b1177",
   "metadata": {},
   "source": [
    "# 3. Conditional statement"
   ]
  },
  {
   "cell_type": "code",
   "execution_count": null,
   "id": "8b37f035",
   "metadata": {},
   "outputs": [],
   "source": [
    "Q.1 How do you make a decision in Python?\n",
    "\n",
    "Q.2 What is decision making statement in Python?\n",
    "\n",
    "Q.3 What is Elif statement in Python?\n",
    "\n",
    "Q.4 Can you have two if statements in Python?"
   ]
  },
  {
   "cell_type": "markdown",
   "id": "39f656aa",
   "metadata": {},
   "source": [
    "# 4. Looping statement"
   ]
  },
  {
   "cell_type": "code",
   "execution_count": null,
   "id": "e2011be1",
   "metadata": {},
   "outputs": [],
   "source": [
    "Q.1 What is Loop in Python? Explain with example.\n",
    "\n",
    "Q.2 How do you write a loop in Python?\n",
    "\n",
    "Q.3 How many types of loops are there in Python?\n",
    "\n",
    "Q.4 What are loops used for in Python?"
   ]
  },
  {
   "cell_type": "markdown",
   "id": "43d9ab0a",
   "metadata": {},
   "source": [
    "# 5. Functions"
   ]
  },
  {
   "cell_type": "code",
   "execution_count": null,
   "id": "328e9cc0",
   "metadata": {},
   "outputs": [],
   "source": [
    "Q.1 What is a function in Python programming?\n",
    "\n",
    "Q.2 What is a built-in function that Python uses to iterate over a number sequence?\n",
    "\n",
    "Q.3 How do we write a function in Python?\n",
    "\n",
    "Q.4 What is the use of help() and dir() functions?"
   ]
  }
 ],
 "metadata": {
  "kernelspec": {
   "display_name": "Python 3 (ipykernel)",
   "language": "python",
   "name": "python3"
  },
  "language_info": {
   "codemirror_mode": {
    "name": "ipython",
    "version": 3
   },
   "file_extension": ".py",
   "mimetype": "text/x-python",
   "name": "python",
   "nbconvert_exporter": "python",
   "pygments_lexer": "ipython3",
   "version": "3.10.0"
  }
 },
 "nbformat": 4,
 "nbformat_minor": 5
}
